{
 "cells": [
  {
   "cell_type": "code",
   "execution_count": 1,
   "metadata": {
    "collapsed": true
   },
   "outputs": [],
   "source": [
    "# read from files\n",
    "\n",
    "# cites graph\n",
    "cites_rowptr = [0, 1, 4, 5, 7, 8, 8]\n",
    "\n",
    "# cited by graph\n",
    "citedby_rowptr = [0, 0, 4, 5, 6, 7, 8]\n",
    "citedby_colind = [0, 2, 3, 4, 1, 1, 1, 3]"
   ]
  },
  {
   "cell_type": "code",
   "execution_count": 2,
   "metadata": {
    "collapsed": false
   },
   "outputs": [],
   "source": [
    "# construct graph in a readable manner\n",
    "\n",
    "graph = []\n",
    "for i in range(len(citedby_rowptr) - 1):\n",
    "    graph.append([])\n",
    "for i in range(len(citedby_rowptr) - 1):\n",
    "    for j in range(citedby_rowptr[i], citedby_rowptr[i + 1]):\n",
    "        graph[citedby_colind[j]].append(i)"
   ]
  },
  {
   "cell_type": "code",
   "execution_count": 3,
   "metadata": {
    "collapsed": false
   },
   "outputs": [],
   "source": [
    "# construct cites many list\n",
    "cites_many = []\n",
    "for i in range(len(cites_rowptr) - 1):\n",
    "    cites_many.append(cites_rowptr[i + 1] - cites_rowptr[i] + 1)\n",
    "cites_many.append(len(cites_rowptr) - 1)"
   ]
  },
  {
   "cell_type": "code",
   "execution_count": 4,
   "metadata": {
    "collapsed": false
   },
   "outputs": [
    {
     "name": "stdout",
     "output_type": "stream",
     "text": [
      "Step:  1    Error: 0.106972789116\n",
      "Step:  2    Error: 0.067580782313\n",
      "Step:  3    Error: 0.041109935988\n",
      "Step:  4    Error: 0.024610838884\n",
      "Step:  5    Error: 0.014809333232\n",
      "Step:  6    Error: 0.008790610091\n",
      "Step:  7    Error: 0.005167738358\n",
      "Step:  8    Error: 0.003017321072\n",
      "Step:  9    Error: 0.001753164350\n",
      "Step: 10    Error: 0.001015069847\n",
      "Step: 11    Error: 0.000586217699\n",
      "Step: 12    Error: 0.000337917642\n",
      "Step: 13    Error: 0.000194521718\n",
      "Step: 14    Error: 0.000111863402\n",
      "Step: 15    Error: 0.000064281459\n"
     ]
    }
   ],
   "source": [
    "# calculate pagerank\n",
    "\n",
    "num_vertices = len(citedby_rowptr)\n",
    "\n",
    "pagerank = [1 / num_vertices for i in range(num_vertices)]\n",
    "\n",
    "step = 0\n",
    "error = 1\n",
    "while error > 0.0001:\n",
    "    step += 1\n",
    "    error = 0\n",
    "    new_pagerank = [x for x in pagerank]\n",
    "    \n",
    "    # for original nodes\n",
    "    for i in range(num_vertices - 1):\n",
    "        curr_rank = 0.15 / num_vertices\n",
    "        for j in range(citedby_rowptr[i], citedby_rowptr[i + 1]):\n",
    "            curr_rank += 0.85 * pagerank[citedby_colind[j]] / cites_many[citedby_colind[j]]\n",
    "        curr_rank += 0.85 * pagerank[-1] / (num_vertices - 1)\n",
    "        new_pagerank[i] = curr_rank\n",
    "        error += abs(new_pagerank[i] - pagerank[i]) / num_vertices\n",
    "\n",
    "    # for additional node\n",
    "    curr_rank = 0.15 / num_vertices\n",
    "    for j in range(num_vertices - 1):\n",
    "        curr_rank += 0.85 * pagerank[j] / cites_many[j]\n",
    "    new_pagerank[-1] = curr_rank\n",
    "    error += abs(new_pagerank[-1] - pagerank[-1]) / num_vertices\n",
    "     \n",
    "    pagerank = [x for x in new_pagerank]    \n",
    "    print(\"Step: {:2d}    Error: {:.12f}\".format(step, error))"
   ]
  },
  {
   "cell_type": "code",
   "execution_count": 5,
   "metadata": {
    "collapsed": false
   },
   "outputs": [],
   "source": [
    "# print pagerank to a file\n",
    "with open('pagerank.txt', 'w') as out:\n",
    "    out.write(str(len(pagerank)) + \"\\n\\n\")\n",
    "    for val in pagerank:\n",
    "        out.write(\"{:.12f}\\n\".format(val))    "
   ]
  },
  {
   "cell_type": "code",
   "execution_count": 6,
   "metadata": {
    "collapsed": false
   },
   "outputs": [],
   "source": [
    "# read authorwritespaper graph\n",
    "\n",
    "awp_rowptr = []\n",
    "with open('authorwritespaper_rowptr.txt') as inp:\n",
    "    inp.readline()\n",
    "    inp.readline()\n",
    "    for line in inp:\n",
    "        awp_rowptr.append(int(line[:-1]))\n",
    "        \n",
    "awp_colind = []\n",
    "with open('authorwritespaper_colind.txt') as inp:\n",
    "    inp.readline()\n",
    "    inp.readline()\n",
    "    for line in inp:\n",
    "        awp_colind.append(int(line[:-1]))"
   ]
  },
  {
   "cell_type": "code",
   "execution_count": 7,
   "metadata": {
    "collapsed": false
   },
   "outputs": [],
   "source": [
    "# compute impact list\n",
    "\n",
    "impact = []\n",
    "for i in range(len(citedby_rowptr) - 1):\n",
    "    total = 0\n",
    "    for j in range(citedby_rowptr[i], citedby_rowptr[i + 1]):\n",
    "        total += pagerank[citedby_colind[j]]\n",
    "    impact.append(total)"
   ]
  },
  {
   "cell_type": "code",
   "execution_count": 8,
   "metadata": {
    "collapsed": false
   },
   "outputs": [],
   "source": [
    "# compute hprimes\n",
    "\n",
    "hprime = []\n",
    "for i in range(len(awp_rowptr) - 1):\n",
    "    papers = []\n",
    "    for j in range(awp_rowptr[i], awp_rowptr[i + 1]):\n",
    "        papers.append((awp_colind[j], impact[awp_colind[j]]))\n",
    "    sorted_papers = [key for key, val in sorted(papers, key=lambda x: x[1], reverse=True)]\n",
    "    \n",
    "    h = 0\n",
    "    while h < len(sorted_papers):\n",
    "        lhs = impact[sorted_papers[h]]\n",
    "        rhs = h * (1 - pagerank[-1]) /(len(pagerank) - 1) \n",
    "        \n",
    "        if lhs >= rhs: h += 1\n",
    "        else: break\n",
    "    hprime.append(h)"
   ]
  },
  {
   "cell_type": "code",
   "execution_count": 9,
   "metadata": {
    "collapsed": false
   },
   "outputs": [],
   "source": [
    "# print hprimes to a file\n",
    "with open('hprime.txt', 'w') as out:\n",
    "    out.write(str(len(hprime)) + \"\\n\\n\")\n",
    "    for val in hprime:\n",
    "        out.write(\"{}\\n\".format(val))   "
   ]
  },
  {
   "cell_type": "code",
   "execution_count": null,
   "metadata": {
    "collapsed": true
   },
   "outputs": [],
   "source": []
  }
 ],
 "metadata": {
  "kernelspec": {
   "display_name": "Python 3",
   "language": "python",
   "name": "python3"
  },
  "language_info": {
   "codemirror_mode": {
    "name": "ipython",
    "version": 3
   },
   "file_extension": ".py",
   "mimetype": "text/x-python",
   "name": "python",
   "nbconvert_exporter": "python",
   "pygments_lexer": "ipython3",
   "version": "3.6.0"
  }
 },
 "nbformat": 4,
 "nbformat_minor": 2
}
